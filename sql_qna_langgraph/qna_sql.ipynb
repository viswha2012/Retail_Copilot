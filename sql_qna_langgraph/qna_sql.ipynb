{
 "cells": [
  {
   "cell_type": "code",
   "execution_count": 82,
   "id": "80badab0",
   "metadata": {},
   "outputs": [],
   "source": [
    "from langchain_community.tools.sql_database.tool import QuerySQLDataBaseTool\n",
    "from langchain.output_parsers import PydanticOutputParser\n",
    "from langchain_community.utilities import SQLDatabase\n",
    "from langchain_core.prompts import ChatPromptTemplate\n",
    "from langchain.chat_models import init_chat_model\n",
    "from langgraph.graph import START, StateGraph\n",
    "from pydantic import BaseModel, Field"
   ]
  },
  {
   "cell_type": "code",
   "execution_count": 113,
   "id": "ed862f28",
   "metadata": {},
   "outputs": [
    {
     "name": "stderr",
     "output_type": "stream",
     "text": [
      "/opt/miniconda3/envs/copilot/lib/python3.10/site-packages/duckdb_engine/__init__.py:184: DuckDBEngineWarning: duckdb-engine doesn't yet support reflection on indices\n",
      "  warnings.warn(\n"
     ]
    },
    {
     "data": {
      "text/plain": [
       "'[(9994,)]'"
      ]
     },
     "execution_count": 113,
     "metadata": {},
     "output_type": "execute_result"
    }
   ],
   "source": [
    "db = SQLDatabase.from_uri(\"duckdb:////Users/viswhavijay/Developer/copilot/analytics.duckdb\")\n",
    "\n",
    "db.run('SELECT COUNT(*) FROM SUPERSTORE')"
   ]
  },
  {
   "cell_type": "code",
   "execution_count": 133,
   "id": "f2dbdb00",
   "metadata": {},
   "outputs": [],
   "source": [
    "class State(BaseModel):\n",
    "    question : str\n",
    "    query : str = ''\n",
    "    result : str = ''\n",
    "    answer : str = ''\n",
    "\n",
    "class QueryOutput(BaseModel):\n",
    "    query: str = Field(description = 'Syntactically valid SQL query. Dates must be in YYYY-MM-DD format.')\n",
    "    explanation: str = Field(description = 'Any additional explanation, apart from the queries')"
   ]
  },
  {
   "cell_type": "code",
   "execution_count": 134,
   "id": "f7942cab",
   "metadata": {},
   "outputs": [],
   "source": [
    "model = init_chat_model(model='dolphin-llama3:8b', model_provider='ollama')"
   ]
  },
  {
   "cell_type": "code",
   "execution_count": 135,
   "id": "4cdb26dc",
   "metadata": {},
   "outputs": [],
   "source": [
    "system_message = \"\"\"\n",
    "Given an input question, create a syntactically correct {dialect} query to\n",
    "run to help find the answer. Unless the user specifies in his question a\n",
    "specific number of examples they wish to obtain, always limit your query to\n",
    "at most {top_k} results. You can order the results by a relevant column to\n",
    "return the most interesting examples in the database.\n",
    "\n",
    "Never query for all the columns from a specific table, only ask for a the\n",
    "few relevant columns given the question.\n",
    "\n",
    "Pay attention to use only the column names that you can see in the schema\n",
    "description. Be careful to not query for columns that do not exist. Also,\n",
    "pay attention to which column is in which table.\n",
    "\n",
    "Only use the following tables:\n",
    "{table_info}\n",
    "\n",
    "Return ONLY valid JSON. Do not include any explanations or text outside the JSON object.\n",
    "{format_instructions}\n",
    "\"\"\"\n",
    "\n",
    "user_prompt = \"Question: {input}\"\n",
    "\n",
    "query_prompt = ChatPromptTemplate(\n",
    "    [('system', system_message), ('user', user_prompt)]\n",
    ")"
   ]
  },
  {
   "cell_type": "code",
   "execution_count": 136,
   "id": "f21d5d47",
   "metadata": {},
   "outputs": [],
   "source": [
    "def write_query(state : State):\n",
    "    parser = PydanticOutputParser(pydantic_object=QueryOutput)\n",
    "    prompt = query_prompt.invoke(\n",
    "        {\n",
    "            'dialect': db.dialect,\n",
    "            'top_k': 10,\n",
    "            'table_info': db.get_table_info(),\n",
    "            'input': state.question,\n",
    "            'format_instructions': parser.get_format_instructions()\n",
    "        }\n",
    "    )\n",
    "\n",
    "    result = model.invoke(prompt)\n",
    "    return {\"query\": parser.parse(result.content).query}\n",
    "\n",
    "def execute_query(state: State):\n",
    "    query_tool = QuerySQLDataBaseTool(db=db)\n",
    "    return {'result': query_tool.invoke(state.query)}\n",
    "\n",
    "def generate_answer(state: State):\n",
    "    prompt = (\n",
    "        \"Given the following user question, corresponding SQL query, \"\n",
    "        \"and SQL result, answer the user question.\\n\\n\"\n",
    "        f\"Question: {state.question}\\n\"\n",
    "        f\"SQL Query: {state.query}\\n\"\n",
    "        f\"SQL Result: {state.result}\"\n",
    "    )\n",
    "\n",
    "    response = model.invoke(prompt)\n",
    "    return {'answer': response.content}"
   ]
  },
  {
   "cell_type": "code",
   "execution_count": 137,
   "id": "1031705f",
   "metadata": {},
   "outputs": [],
   "source": [
    "graph_builder = StateGraph(State).add_sequence(\n",
    "    [write_query, execute_query, generate_answer]\n",
    ")    \n",
    "\n",
    "graph_builder.add_edge(START, 'write_query')\n",
    "graph = graph_builder.compile()"
   ]
  },
  {
   "cell_type": "code",
   "execution_count": 140,
   "id": "81ac33a2",
   "metadata": {},
   "outputs": [
    {
     "name": "stdout",
     "output_type": "stream",
     "text": [
      "{'write_query': {'query': 'SELECT category, SUM(sales) AS total_sales FROM superstore GROUP BY category ORDER BY total_sales DESC LIMIT 1'}}\n",
      "{'execute_query': {'result': \"[('Technology', 836154.0999999908)]\"}}\n",
      "{'generate_answer': {'answer': \"The category of product that gets sold the most is 'Technology'.\"}}\n"
     ]
    }
   ],
   "source": [
    "for step in graph.stream(\n",
    "    State(question = \"Which category of product gets sold most?\"), stream_mode=\"updates\"\n",
    "):\n",
    "    print(step)"
   ]
  }
 ],
 "metadata": {
  "kernelspec": {
   "display_name": "copilot",
   "language": "python",
   "name": "python3"
  },
  "language_info": {
   "codemirror_mode": {
    "name": "ipython",
    "version": 3
   },
   "file_extension": ".py",
   "mimetype": "text/x-python",
   "name": "python",
   "nbconvert_exporter": "python",
   "pygments_lexer": "ipython3",
   "version": "3.10.18"
  }
 },
 "nbformat": 4,
 "nbformat_minor": 5
}
