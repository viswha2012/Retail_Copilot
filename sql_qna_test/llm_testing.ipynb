{
 "cells": [
  {
   "cell_type": "markdown",
   "id": "05d910a5",
   "metadata": {},
   "source": []
  },
  {
   "cell_type": "code",
   "execution_count": 7,
   "id": "551e6205",
   "metadata": {},
   "outputs": [],
   "source": [
    "from retrieve_context import json_to_arr"
   ]
  },
  {
   "cell_type": "code",
   "execution_count": 6,
   "id": "5c0cddec",
   "metadata": {},
   "outputs": [
    {
     "name": "stdout",
     "output_type": "stream",
     "text": [
      "SELECT name FROM employees WHERE department = 'Sales'\n"
     ]
    }
   ],
   "source": [
    "from openai import OpenAI\n",
    "client = OpenAI(base_url=\"http://localhost:11434/v1\", api_key=\"ollama\")\n",
    "\n",
    "messages = [\n",
    "    {'role':'system', 'content':'You are an SQL expert who generates SQL queries based on user requests. You generate only the SQL query without any additional text.'},\n",
    "    {'role':'user', 'content': 'Generate an SQL query to find the names of all employees in the \"Sales\" department.'}\n",
    "]\n",
    "\n",
    "response = client.chat.completions.create(model='dolphin-llama3:8b', messages=messages)\n",
    "print(response.choices[0].message.content)\n"
   ]
  },
  {
   "cell_type": "code",
   "execution_count": 9,
   "id": "29fcd115",
   "metadata": {},
   "outputs": [
    {
     "data": {
      "text/plain": [
       "[{'type': 'table',\n",
       "  'name': 'superstore',\n",
       "  'description': 'This table contains transaction-level retail sales data. Each row represents a single order line, including order details, customer information, product information, and financial metrics such as sales, discounts, and profit. It is the central table for analyzing revenue, customer behavior, and product performance.'},\n",
       " {'type': 'column',\n",
       "  'name': 'row_id',\n",
       "  'description': 'An automatically generated integer index that uniquely identifies each row in the dataset. It has no business meaning but is useful for referencing records internally.'},\n",
       " {'type': 'column',\n",
       "  'name': 'order_id',\n",
       "  'description': 'A unique alphanumeric identifier assigned to each order. All rows with the same order_id belong to the same customer order, which may contain multiple products (order lines). Useful for grouping and analyzing multi-line orders.'},\n",
       " {'type': 'column',\n",
       "  'name': 'order_date',\n",
       "  'description': 'The calendar date when the customer placed the order (stored as a date type). This field is critical for time-series analysis such as daily, monthly, or yearly sales trends, revenue growth over time, or seasonality analysis.'},\n",
       " {'type': 'column',\n",
       "  'name': 'ship_date',\n",
       "  'description': 'The calendar date when the order was shipped to the customer. Useful for analyzing delivery times, fulfillment efficiency, and operational logistics.'},\n",
       " {'type': 'column',\n",
       "  'name': 'ship_mode',\n",
       "  'description': 'The shipping method selected for the order (e.g., Standard Class, Second Class, First Class, Same Day). Important for analyzing the relationship between shipping type, delivery time, and customer satisfaction or cost.'},\n",
       " {'type': 'column',\n",
       "  'name': 'customer_id',\n",
       "  'description': 'A unique identifier assigned to each customer. This allows linking multiple orders back to the same customer and performing customer-level analytics such as retention, segmentation, and lifetime value.'},\n",
       " {'type': 'column',\n",
       "  'name': 'customer_name',\n",
       "  'description': 'The full name of the customer who placed the order. Mostly descriptive, but can be used for reporting or validation.'},\n",
       " {'type': 'column',\n",
       "  'name': 'segment',\n",
       "  'description': 'The business market segment the customer belongs to (Consumer, Corporate, or Home Office). Useful for analyzing sales and profitability by customer type and for market segmentation analysis.'},\n",
       " {'type': 'column',\n",
       "  'name': 'country',\n",
       "  'description': \"The country where the customer is located. In this dataset it is always 'United States', but it provides geographic context for expansion or filtering.\"},\n",
       " {'type': 'column',\n",
       "  'name': 'city',\n",
       "  'description': 'The city of the customer’s address. Enables regional-level sales analysis and geographic insights.'},\n",
       " {'type': 'column',\n",
       "  'name': 'state',\n",
       "  'description': 'The U.S. state where the customer is located. Useful for state-level sales analysis, performance dashboards, and geographic comparisons.'},\n",
       " {'type': 'column',\n",
       "  'name': 'postal_code',\n",
       "  'description': 'The ZIP or postal code of the customer. Can be used for detailed geographic clustering or mapping sales at the postal level.'},\n",
       " {'type': 'column',\n",
       "  'name': 'region',\n",
       "  'description': 'The broad U.S. geographic region (West, East, Central, South) where the order was placed. Often used for high-level geographic revenue comparisons and regional performance trends.'},\n",
       " {'type': 'column',\n",
       "  'name': 'product_id',\n",
       "  'description': 'A unique identifier for each product in the catalog. Useful for joining with product reference tables and analyzing sales at the product level.'},\n",
       " {'type': 'column',\n",
       "  'name': 'category',\n",
       "  'description': 'The top-level product category (Furniture, Office Supplies, Technology). Useful for analyzing revenue distribution across product lines.'},\n",
       " {'type': 'column',\n",
       "  'name': 'sub_category',\n",
       "  'description': 'A more specific breakdown of the product category (e.g., Chairs, Storage, Phones). Enables more detailed product sales analysis within categories.'},\n",
       " {'type': 'column',\n",
       "  'name': 'product_name',\n",
       "  'description': 'The descriptive name of the purchased product. Helpful for product-level reporting, but too granular for large-scale trend analysis.'},\n",
       " {'type': 'column',\n",
       "  'name': 'sales',\n",
       "  'description': 'The total sales revenue for this order line (in U.S. dollars). This is a key financial metric for analyzing revenue performance, growth trends, and product contribution. Often aggregated (SUM) for revenue reports.'},\n",
       " {'type': 'column',\n",
       "  'name': 'quantity',\n",
       "  'description': 'The number of units purchased for this product in the given order line. Useful for analyzing sales volume, demand patterns, and product popularity.'},\n",
       " {'type': 'column',\n",
       "  'name': 'discount',\n",
       "  'description': 'The discount applied to this order line as a fraction of sales. Useful for analyzing pricing strategy, promotions, and impact of discounts on revenue and profit.'},\n",
       " {'type': 'column',\n",
       "  'name': 'profit',\n",
       "  'description': 'The profit earned for this order line (in U.S. dollars), calculated as sales minus cost. A critical metric for profitability analysis across products, regions, and customer segments.'}]"
      ]
     },
     "execution_count": 9,
     "metadata": {},
     "output_type": "execute_result"
    }
   ],
   "source": [
    "json_to_arr('schema_docs.json')"
   ]
  },
  {
   "cell_type": "code",
   "execution_count": null,
   "id": "2d3ce7d8",
   "metadata": {},
   "outputs": [],
   "source": []
  }
 ],
 "metadata": {
  "kernelspec": {
   "display_name": "copilot",
   "language": "python",
   "name": "python3"
  },
  "language_info": {
   "codemirror_mode": {
    "name": "ipython",
    "version": 3
   },
   "file_extension": ".py",
   "mimetype": "text/x-python",
   "name": "python",
   "nbconvert_exporter": "python",
   "pygments_lexer": "ipython3",
   "version": "3.10.18"
  }
 },
 "nbformat": 4,
 "nbformat_minor": 5
}
