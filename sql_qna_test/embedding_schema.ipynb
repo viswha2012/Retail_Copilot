{
 "cells": [
  {
   "cell_type": "markdown",
   "id": "76f2ddea",
   "metadata": {},
   "source": []
  },
  {
   "cell_type": "code",
   "execution_count": 54,
   "id": "d8550b47",
   "metadata": {},
   "outputs": [],
   "source": [
    "import json\n",
    "from qdrant_client import models, QdrantClient\n",
    "from sentence_transformers import SentenceTransformer"
   ]
  },
  {
   "cell_type": "code",
   "execution_count": 55,
   "id": "31e6da0e",
   "metadata": {},
   "outputs": [],
   "source": [
    "encoder = SentenceTransformer(\"all-mpnet-base-v2\")"
   ]
  },
  {
   "cell_type": "code",
   "execution_count": 56,
   "id": "83cfe5c8",
   "metadata": {},
   "outputs": [],
   "source": [
    "with open(\"schema_docs.json\", \"r\") as f:\n",
    "    schema_docs = json.load(f)"
   ]
  },
  {
   "cell_type": "code",
   "execution_count": 57,
   "id": "1603700e",
   "metadata": {},
   "outputs": [],
   "source": [
    "vectors = encoder.encode(schema_docs).tolist()"
   ]
  },
  {
   "cell_type": "code",
   "execution_count": 58,
   "id": "7d0c7561",
   "metadata": {},
   "outputs": [
    {
     "name": "stderr",
     "output_type": "stream",
     "text": [
      "/var/folders/ph/8_vyygs16cx718tn3nsdccww0000gn/T/ipykernel_27692/1050872298.py:3: DeprecationWarning: `recreate_collection` method is deprecated and will be removed in the future. Use `collection_exists` to check collection existence and `create_collection` instead.\n",
      "  client.recreate_collection(\n"
     ]
    },
    {
     "data": {
      "text/plain": [
       "UpdateResult(operation_id=0, status=<UpdateStatus.COMPLETED: 'completed'>)"
      ]
     },
     "execution_count": 58,
     "metadata": {},
     "output_type": "execute_result"
    }
   ],
   "source": [
    "client = QdrantClient(':memory:')\n",
    "\n",
    "client.recreate_collection(\n",
    "    collection_name = 'schema',\n",
    "    vectors_config = models.VectorParams(size = len(vectors[0]), distance = models.Distance.COSINE)\n",
    ")\n",
    "\n",
    "client.upsert(\n",
    "    collection_name = 'schema',\n",
    "    points = [\n",
    "        models.PointStruct(id = i, vector = vectors[i], payload = {'text': schema_docs[i]}) for i in range(len(schema_docs))\n",
    "    ]\n",
    ")"
   ]
  },
  {
   "cell_type": "code",
   "execution_count": 62,
   "id": "9fdfcf4c",
   "metadata": {},
   "outputs": [
    {
     "name": "stdout",
     "output_type": "stream",
     "text": [
      "Score: 0.5300, Text: Column ship_mode: The shipping method selected for the order (e.g., Standard Class, Second Class, First Class, Same Day). Important for analyzing the relationship between shipping type, delivery time, and customer satisfaction or cost.\n",
      "Score: 0.3531, Text: Column ship_date: The calendar date when the order was shipped to the customer. Useful for analyzing delivery times, fulfillment efficiency, and operational logistics.\n",
      "Score: 0.2062, Text: Column sales: The total sales revenue for this order line (in U.S. dollars). This is a key financial metric for analyzing revenue performance, growth trends, and product contribution. Often aggregated (SUM) for revenue reports.\n",
      "Score: 0.1996, Text: Column region: The broad U.S. geographic region (West, East, Central, South) where the order was placed. Often used for high-level geographic revenue comparisons and regional performance trends.\n",
      "Score: 0.1989, Text: Table superstore: This table contains transaction-level retail sales data. Each row represents a single order line, including order details, customer information, product information, and financial metrics such as sales, discounts, and profit. It is the central table for analyzing revenue, customer behavior, and product performance.\n"
     ]
    },
    {
     "name": "stderr",
     "output_type": "stream",
     "text": [
      "/var/folders/ph/8_vyygs16cx718tn3nsdccww0000gn/T/ipykernel_27692/1285302100.py:4: DeprecationWarning: `search` method is deprecated and will be removed in the future. Use `query_points` instead.\n",
      "  results = client.search(\n"
     ]
    }
   ],
   "source": [
    "query = 'Average shipping delay per shipping mode.'\n",
    "query_vec = encoder.encode(query).tolist()\n",
    "\n",
    "results = client.search(\n",
    "    collection_name = 'schema',\n",
    "    query_vector = query_vec,\n",
    "    limit = 5\n",
    ")\n",
    "\n",
    "for r in results:\n",
    "    print(f\"Score: {r.score:.4f}, Text: {r.payload['text']}\")"
   ]
  },
  {
   "cell_type": "code",
   "execution_count": null,
   "id": "919078ed",
   "metadata": {},
   "outputs": [],
   "source": []
  }
 ],
 "metadata": {
  "kernelspec": {
   "display_name": "copilot",
   "language": "python",
   "name": "python3"
  },
  "language_info": {
   "codemirror_mode": {
    "name": "ipython",
    "version": 3
   },
   "file_extension": ".py",
   "mimetype": "text/x-python",
   "name": "python",
   "nbconvert_exporter": "python",
   "pygments_lexer": "ipython3",
   "version": "3.10.18"
  }
 },
 "nbformat": 4,
 "nbformat_minor": 5
}
